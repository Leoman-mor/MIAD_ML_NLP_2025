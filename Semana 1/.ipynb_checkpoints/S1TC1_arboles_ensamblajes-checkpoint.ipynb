{
 "cells": [
  {
   "cell_type": "markdown",
   "metadata": {},
   "source": [
    "![image info](https://raw.githubusercontent.com/albahnsen/MIAD_ML_and_NLP/main/images/banner_1.png)"
   ]
  },
  {
   "cell_type": "markdown",
   "metadata": {},
   "source": [
    "# Taller: Construcción e implementación de árboles de decisión y métodos de ensamblaje\n",
    "\n",
    "En este taller podrá poner en práctica los sus conocimientos sobre construcción e implementación de árboles de decisión y métodos de ensamblajes. El taller está constituido por 9 puntos, 5 relacionados con árboles de decisión (parte A) y 4 con métodos de ensamblaje (parte B)."
   ]
  },
  {
   "cell_type": "markdown",
   "metadata": {},
   "source": [
    "## Parte A - Árboles de decisión\n",
    "\n",
    "En esta parte del taller se usará el conjunto de datos de Capital Bikeshare de Kaggle, donde cada observación representa el alquiler de bicicletas durante una hora y día determinado. Para más detalles puede visitar los siguientes enlaces: [datos](https://archive.ics.uci.edu/ml/machine-learning-databases/00275/Bike-Sharing-Dataset.zip), [dicccionario de datos](https://archive.ics.uci.edu/ml/datasets/Bike+Sharing+Dataset#)."
   ]
  },
  {
   "cell_type": "markdown",
   "metadata": {},
   "source": [
    "### Datos prestamo de bicicletas"
   ]
  },
  {
   "cell_type": "code",
   "execution_count": 1,
   "metadata": {},
   "outputs": [],
   "source": [
    "import warnings\n",
    "warnings.filterwarnings('ignore')"
   ]
  },
  {
   "cell_type": "code",
   "execution_count": 2,
   "metadata": {},
   "outputs": [],
   "source": [
    "# Importación de librerías\n",
    "%matplotlib inline\n",
    "import pandas as pd\n",
    "import numpy as np\n",
    "from sklearn.model_selection import cross_val_score\n",
    "from sklearn.linear_model import LinearRegression\n",
    "from sklearn.tree import DecisionTreeRegressor, export_graphviz\n",
    "import matplotlib.pyplot as plt\n",
    "from sklearn.metrics import mean_squared_error, r2_score\n",
    "from sklearn.model_selection import train_test_split\n",
    "from sklearn.tree import DecisionTreeClassifier\n",
    "from sklearn.linear_model import LogisticRegression\n",
    "from sklearn.metrics import accuracy_score, f1_score"
   ]
  },
  {
   "cell_type": "code",
   "execution_count": 3,
   "metadata": {},
   "outputs": [
    {
     "data": {
      "text/html": [
       "<div>\n",
       "<style scoped>\n",
       "    .dataframe tbody tr th:only-of-type {\n",
       "        vertical-align: middle;\n",
       "    }\n",
       "\n",
       "    .dataframe tbody tr th {\n",
       "        vertical-align: top;\n",
       "    }\n",
       "\n",
       "    .dataframe thead th {\n",
       "        text-align: right;\n",
       "    }\n",
       "</style>\n",
       "<table border=\"1\" class=\"dataframe\">\n",
       "  <thead>\n",
       "    <tr style=\"text-align: right;\">\n",
       "      <th></th>\n",
       "      <th>season</th>\n",
       "      <th>holiday</th>\n",
       "      <th>workingday</th>\n",
       "      <th>weather</th>\n",
       "      <th>temp</th>\n",
       "      <th>atemp</th>\n",
       "      <th>humidity</th>\n",
       "      <th>windspeed</th>\n",
       "      <th>casual</th>\n",
       "      <th>registered</th>\n",
       "      <th>total</th>\n",
       "      <th>hour</th>\n",
       "    </tr>\n",
       "    <tr>\n",
       "      <th>datetime</th>\n",
       "      <th></th>\n",
       "      <th></th>\n",
       "      <th></th>\n",
       "      <th></th>\n",
       "      <th></th>\n",
       "      <th></th>\n",
       "      <th></th>\n",
       "      <th></th>\n",
       "      <th></th>\n",
       "      <th></th>\n",
       "      <th></th>\n",
       "      <th></th>\n",
       "    </tr>\n",
       "  </thead>\n",
       "  <tbody>\n",
       "    <tr>\n",
       "      <th>2011-01-01 00:00:00</th>\n",
       "      <td>1</td>\n",
       "      <td>0</td>\n",
       "      <td>0</td>\n",
       "      <td>1</td>\n",
       "      <td>9.84</td>\n",
       "      <td>14.395</td>\n",
       "      <td>81</td>\n",
       "      <td>0.0</td>\n",
       "      <td>3</td>\n",
       "      <td>13</td>\n",
       "      <td>16</td>\n",
       "      <td>0</td>\n",
       "    </tr>\n",
       "    <tr>\n",
       "      <th>2011-01-01 01:00:00</th>\n",
       "      <td>1</td>\n",
       "      <td>0</td>\n",
       "      <td>0</td>\n",
       "      <td>1</td>\n",
       "      <td>9.02</td>\n",
       "      <td>13.635</td>\n",
       "      <td>80</td>\n",
       "      <td>0.0</td>\n",
       "      <td>8</td>\n",
       "      <td>32</td>\n",
       "      <td>40</td>\n",
       "      <td>1</td>\n",
       "    </tr>\n",
       "    <tr>\n",
       "      <th>2011-01-01 02:00:00</th>\n",
       "      <td>1</td>\n",
       "      <td>0</td>\n",
       "      <td>0</td>\n",
       "      <td>1</td>\n",
       "      <td>9.02</td>\n",
       "      <td>13.635</td>\n",
       "      <td>80</td>\n",
       "      <td>0.0</td>\n",
       "      <td>5</td>\n",
       "      <td>27</td>\n",
       "      <td>32</td>\n",
       "      <td>2</td>\n",
       "    </tr>\n",
       "    <tr>\n",
       "      <th>2011-01-01 03:00:00</th>\n",
       "      <td>1</td>\n",
       "      <td>0</td>\n",
       "      <td>0</td>\n",
       "      <td>1</td>\n",
       "      <td>9.84</td>\n",
       "      <td>14.395</td>\n",
       "      <td>75</td>\n",
       "      <td>0.0</td>\n",
       "      <td>3</td>\n",
       "      <td>10</td>\n",
       "      <td>13</td>\n",
       "      <td>3</td>\n",
       "    </tr>\n",
       "    <tr>\n",
       "      <th>2011-01-01 04:00:00</th>\n",
       "      <td>1</td>\n",
       "      <td>0</td>\n",
       "      <td>0</td>\n",
       "      <td>1</td>\n",
       "      <td>9.84</td>\n",
       "      <td>14.395</td>\n",
       "      <td>75</td>\n",
       "      <td>0.0</td>\n",
       "      <td>0</td>\n",
       "      <td>1</td>\n",
       "      <td>1</td>\n",
       "      <td>4</td>\n",
       "    </tr>\n",
       "  </tbody>\n",
       "</table>\n",
       "</div>"
      ],
      "text/plain": [
       "                     season  holiday  workingday  weather  temp   atemp  \\\n",
       "datetime                                                                  \n",
       "2011-01-01 00:00:00       1        0           0        1  9.84  14.395   \n",
       "2011-01-01 01:00:00       1        0           0        1  9.02  13.635   \n",
       "2011-01-01 02:00:00       1        0           0        1  9.02  13.635   \n",
       "2011-01-01 03:00:00       1        0           0        1  9.84  14.395   \n",
       "2011-01-01 04:00:00       1        0           0        1  9.84  14.395   \n",
       "\n",
       "                     humidity  windspeed  casual  registered  total  hour  \n",
       "datetime                                                                   \n",
       "2011-01-01 00:00:00        81        0.0       3          13     16     0  \n",
       "2011-01-01 01:00:00        80        0.0       8          32     40     1  \n",
       "2011-01-01 02:00:00        80        0.0       5          27     32     2  \n",
       "2011-01-01 03:00:00        75        0.0       3          10     13     3  \n",
       "2011-01-01 04:00:00        75        0.0       0           1      1     4  "
      ]
     },
     "execution_count": 3,
     "metadata": {},
     "output_type": "execute_result"
    }
   ],
   "source": [
    "# Lectura de la información de archivo .csv\n",
    "bikes = pd.read_csv('https://raw.githubusercontent.com/davidzarruk/MIAD_ML_NLP_2023/main/datasets/bikeshare.csv', index_col='datetime', parse_dates=True)\n",
    "\n",
    "# Renombrar variable \"count\" a \"total\"\n",
    "bikes.rename(columns={'count':'total'}, inplace=True)\n",
    "\n",
    "# Crear la hora como una variable \n",
    "bikes['hour'] = bikes.index.hour\n",
    "\n",
    "# Visualización de los datos\n",
    "bikes.head()"
   ]
  },
  {
   "cell_type": "markdown",
   "metadata": {},
   "source": [
    "### Punto 1 - Análisis descriptivo\n",
    "\n",
    "Ejecute las celdas 1.1 y 1.2. A partir de los resultados realice un análisis descriptivo sobre las variables \"season\" y \"hour\", escriba sus inferencias sobre los datos. Para complementar su análisis puede usar métricas como máximo, mínimo, percentiles entre otros."
   ]
  },
  {
   "cell_type": "code",
   "execution_count": 4,
   "metadata": {},
   "outputs": [
    {
     "data": {
      "text/plain": [
       "season\n",
       "1    116.343261\n",
       "2    215.251372\n",
       "3    234.417124\n",
       "4    198.988296\n",
       "Name: total, dtype: float64"
      ]
     },
     "execution_count": 4,
     "metadata": {},
     "output_type": "execute_result"
    }
   ],
   "source": [
    "# Celda 1.1\n",
    "bikes.groupby('season').total.mean()"
   ]
  },
  {
   "cell_type": "code",
   "execution_count": 5,
   "metadata": {},
   "outputs": [
    {
     "data": {
      "text/html": [
       "<div>\n",
       "<style scoped>\n",
       "    .dataframe tbody tr th:only-of-type {\n",
       "        vertical-align: middle;\n",
       "    }\n",
       "\n",
       "    .dataframe tbody tr th {\n",
       "        vertical-align: top;\n",
       "    }\n",
       "\n",
       "    .dataframe thead th {\n",
       "        text-align: right;\n",
       "    }\n",
       "</style>\n",
       "<table border=\"1\" class=\"dataframe\">\n",
       "  <thead>\n",
       "    <tr style=\"text-align: right;\">\n",
       "      <th></th>\n",
       "      <th>holiday</th>\n",
       "      <th>workingday</th>\n",
       "      <th>weather</th>\n",
       "      <th>temp</th>\n",
       "      <th>atemp</th>\n",
       "      <th>humidity</th>\n",
       "      <th>windspeed</th>\n",
       "      <th>casual</th>\n",
       "      <th>registered</th>\n",
       "      <th>total</th>\n",
       "      <th>hour</th>\n",
       "    </tr>\n",
       "    <tr>\n",
       "      <th>season</th>\n",
       "      <th></th>\n",
       "      <th></th>\n",
       "      <th></th>\n",
       "      <th></th>\n",
       "      <th></th>\n",
       "      <th></th>\n",
       "      <th></th>\n",
       "      <th></th>\n",
       "      <th></th>\n",
       "      <th></th>\n",
       "      <th></th>\n",
       "    </tr>\n",
       "  </thead>\n",
       "  <tbody>\n",
       "    <tr>\n",
       "      <th>1</th>\n",
       "      <td>0.026433</td>\n",
       "      <td>0.680566</td>\n",
       "      <td>1.424423</td>\n",
       "      <td>12.530491</td>\n",
       "      <td>15.228956</td>\n",
       "      <td>56.297841</td>\n",
       "      <td>14.636978</td>\n",
       "      <td>15.489576</td>\n",
       "      <td>100.853686</td>\n",
       "      <td>116.343261</td>\n",
       "      <td>11.642591</td>\n",
       "    </tr>\n",
       "    <tr>\n",
       "      <th>2</th>\n",
       "      <td>0.017563</td>\n",
       "      <td>0.692645</td>\n",
       "      <td>1.422978</td>\n",
       "      <td>22.823483</td>\n",
       "      <td>26.647098</td>\n",
       "      <td>60.852909</td>\n",
       "      <td>13.405607</td>\n",
       "      <td>47.446762</td>\n",
       "      <td>167.804610</td>\n",
       "      <td>215.251372</td>\n",
       "      <td>11.508965</td>\n",
       "    </tr>\n",
       "    <tr>\n",
       "      <th>3</th>\n",
       "      <td>0.035126</td>\n",
       "      <td>0.675082</td>\n",
       "      <td>1.366630</td>\n",
       "      <td>28.789111</td>\n",
       "      <td>32.540783</td>\n",
       "      <td>64.123674</td>\n",
       "      <td>11.508862</td>\n",
       "      <td>52.220271</td>\n",
       "      <td>182.196853</td>\n",
       "      <td>234.417124</td>\n",
       "      <td>11.510428</td>\n",
       "    </tr>\n",
       "    <tr>\n",
       "      <th>4</th>\n",
       "      <td>0.035113</td>\n",
       "      <td>0.675201</td>\n",
       "      <td>1.459766</td>\n",
       "      <td>16.649239</td>\n",
       "      <td>20.059909</td>\n",
       "      <td>66.173738</td>\n",
       "      <td>11.678147</td>\n",
       "      <td>28.580834</td>\n",
       "      <td>170.407462</td>\n",
       "      <td>198.988296</td>\n",
       "      <td>11.506218</td>\n",
       "    </tr>\n",
       "  </tbody>\n",
       "</table>\n",
       "</div>"
      ],
      "text/plain": [
       "         holiday  workingday   weather       temp      atemp   humidity  \\\n",
       "season                                                                    \n",
       "1       0.026433    0.680566  1.424423  12.530491  15.228956  56.297841   \n",
       "2       0.017563    0.692645  1.422978  22.823483  26.647098  60.852909   \n",
       "3       0.035126    0.675082  1.366630  28.789111  32.540783  64.123674   \n",
       "4       0.035113    0.675201  1.459766  16.649239  20.059909  66.173738   \n",
       "\n",
       "        windspeed     casual  registered       total       hour  \n",
       "season                                                           \n",
       "1       14.636978  15.489576  100.853686  116.343261  11.642591  \n",
       "2       13.405607  47.446762  167.804610  215.251372  11.508965  \n",
       "3       11.508862  52.220271  182.196853  234.417124  11.510428  \n",
       "4       11.678147  28.580834  170.407462  198.988296  11.506218  "
      ]
     },
     "execution_count": 5,
     "metadata": {},
     "output_type": "execute_result"
    }
   ],
   "source": [
    "bikes.groupby('season').mean()"
   ]
  },
  {
   "cell_type": "code",
   "execution_count": 6,
   "metadata": {
    "scrolled": true
   },
   "outputs": [
    {
     "data": {
      "text/plain": [
       "hour\n",
       "0      55.138462\n",
       "1      33.859031\n",
       "2      22.899554\n",
       "3      11.757506\n",
       "4       6.407240\n",
       "5      19.767699\n",
       "6      76.259341\n",
       "7     213.116484\n",
       "8     362.769231\n",
       "9     221.780220\n",
       "10    175.092308\n",
       "11    210.674725\n",
       "12    256.508772\n",
       "13    257.787281\n",
       "14    243.442982\n",
       "15    254.298246\n",
       "16    316.372807\n",
       "17    468.765351\n",
       "18    430.859649\n",
       "19    315.278509\n",
       "20    228.517544\n",
       "21    173.370614\n",
       "22    133.576754\n",
       "23     89.508772\n",
       "Name: total, dtype: float64"
      ]
     },
     "execution_count": 6,
     "metadata": {},
     "output_type": "execute_result"
    }
   ],
   "source": [
    "# Celda 1.2\n",
    "bikes.groupby('hour').total.mean()"
   ]
  },
  {
   "cell_type": "code",
   "execution_count": 7,
   "metadata": {},
   "outputs": [
    {
     "data": {
      "text/plain": [
       "count    10886.000000\n",
       "mean        11.541613\n",
       "std          6.915838\n",
       "min          0.000000\n",
       "25%          6.000000\n",
       "50%         12.000000\n",
       "75%         18.000000\n",
       "max         23.000000\n",
       "Name: hour, dtype: float64"
      ]
     },
     "execution_count": 7,
     "metadata": {},
     "output_type": "execute_result"
    }
   ],
   "source": [
    "bikes.hour.describe()"
   ]
  },
  {
   "cell_type": "markdown",
   "metadata": {},
   "source": [
    "En cuanto al alquiler de bicicletas según las temporadas, se observa que, en promedio, la primavera (2) y el verano (3) son las estaciones con mayor demanda. Además, se nota que el alquiler es más frecuente durante los días laborales.\n",
    "\n",
    "Respecto a las horas, se identifica un pico de demanda de alquiler cerca de las 17 horas. Esto podría estar relacionado con la mayor actividad en días de trabajo, ya que esta hora puede llegar a corresponder a la salida de las personas de sus empleos.\n",
    "\n",
    "Por último, se aprecia que la variable “hour” presenta una distribución relativamente simétrica, ya que la media y la mediana (percentil 50) son muy similares. Esto indica que la distribución se asemeja a una normal centrada en la mediana."
   ]
  },
  {
   "cell_type": "markdown",
   "metadata": {},
   "source": [
    "### Punto 2 - Análisis de gráficos\n",
    "\n",
    "Primero ejecute la celda 2.1 y asegúrese de comprender el código y el resultado. Luego, en cada una de celdas 2.2 y 2.3 escriba un código que genere una gráfica del número de bicicletas rentadas promedio para cada valor de la variable \"hour\" (hora) cuando la variable \"season\" es igual a 1 (invierno) e igual a 3 (verano), respectivamente. Analice y escriba sus hallazgos."
   ]
  },
  {
   "cell_type": "code",
   "execution_count": 8,
   "metadata": {},
   "outputs": [
    {
     "data": {
      "image/png": "[encoded data removed]",
      "text/plain": [
       "<Figure size 640x480 with 1 Axes>"
      ]
     },
     "metadata": {},
     "output_type": "display_data"
    }
   ],
   "source": [
    "# Celda 2.1 - rentas promedio para cada valor de la variable \"hour\"\n",
    "bikes.groupby('hour').total.mean().plot()\n",
    "plt.show()"
   ]
  },
  {
   "cell_type": "code",
   "execution_count": 9,
   "metadata": {},
   "outputs": [
    {
     "data": {
      "image/png": "[encoded data removed]",
      "text/plain": [
       "<Figure size 640x480 with 1 Axes>"
      ]
     },
     "metadata": {},
     "output_type": "display_data"
    }
   ],
   "source": [
    "# Celda 2.2 - \"season\"=1 escriba su código y hallazgos \n",
    "\n",
    "bikes[bikes['season'] == 1].groupby('hour').total.mean().plot(title='Promedio de alquileres por hora - Invierno (season 1)')\n",
    "plt.xlabel('Hora del día')\n",
    "plt.ylabel('Promedio de alquileres')\n",
    "plt.xticks(range(0,24))\n",
    "plt.show()\n",
    "\n",
    "# La gráfica muestra el comportamiento promedio del alquiler de bicicletas a lo largo del día durante el invierno (season 1).\n",
    "# Se observan dos picos en la demanda: uno alrededor de las 8 horas y otro cerca de las 16 o 17 horas.\n",
    "# Esto contrasta en parte con el análisis anterior, que asociaba la mayor demanda con la entrada y salida del trabajo.\n",
    "# En promedio, durante el invierno, el máximo de alquileres alcanza aproximadamente 270 bicicletas, siendo el pico principal alrededor de las 16 a 17 horas."
   ]
  },
  {
   "cell_type": "code",
   "execution_count": 10,
   "metadata": {},
   "outputs": [
    {
     "data": {
      "image/png": "[encoded data removed]",
      "text/plain": [
       "<Figure size 640x480 with 1 Axes>"
      ]
     },
     "metadata": {},
     "output_type": "display_data"
    }
   ],
   "source": [
    "# Celda 2.3 - \"season\"=3 escriba su código y hallazgos \n",
    "\n",
    "bikes[bikes['season'] == 3].groupby('hour').total.mean().plot(title='Promedio de alquileres por hora - Verano (season 3)')\n",
    "plt.xlabel('Hora del día')\n",
    "plt.ylabel('Promedio de alquileres')\n",
    "plt.xticks(range(0,24))\n",
    "plt.show()\n",
    "\n",
    "# La gráfica muestra el comportamiento promedio del alquiler de bicicletas a lo largo del día durante el verano (season 3).\n",
    "# Se observan dos picos en la demanda: uno cerca de las 7 u 8 horas y otro cerca de las 17 horas.\n",
    "# En comparación con la season 1, para esta temporada se pueden llega a necesitar más de 550 bicicletas disponibles para cubrir la demanda de alquileres.\n",
    "# Este cambio concuerda con el comportamiento humano, ya que en verano las personas se sienten más libres de andar en bicicleta que en invierno."
   ]
  },
  {
   "cell_type": "markdown",
   "metadata": {},
   "source": [
    "### Punto 3 - Regresión lineal\n",
    "En la celda 3 ajuste un modelo de regresión lineal a un conjunto de train de datos, utilizando \"total\" como variable de respuesta y \"season\" y \"hour\" como las únicas variables predictoras, teniendo en cuenta que la variable \"season\" es categórica. Luego, imprima los coeficientes e interprételos. ¿Cuáles son las limitaciones de la regresión lineal en este caso?"
   ]
  },
  {
   "cell_type": "code",
   "execution_count": 11,
   "metadata": {},
   "outputs": [
    {
     "name": "stdout",
     "output_type": "stream",
     "text": [
      "Intercepto: 29.536159845354774\n",
      "Coeficientes:\n",
      "season    26.951309\n",
      "hour      10.521298\n",
      "dtype: float64\n",
      "R2: 0.1881\n"
     ]
    }
   ],
   "source": [
    "# Celda 3\n",
    "\n",
    "bikes['season'] = bikes['season'].astype('category').cat.codes # Convertir la variable categórica 'season'\n",
    "X = bikes[['season', 'hour']] \n",
    "y = bikes['total']\n",
    "\n",
    "# Ajustar el modelo de regresión lineal\n",
    "modelo = LinearRegression()\n",
    "modelo.fit(X, y)\n",
    "\n",
    "# Imprimir el intercepto y los coeficientes\n",
    "coeficientes = pd.Series(modelo.coef_, index=X.columns)\n",
    "print(\"Intercepto:\", modelo.intercept_)\n",
    "print(\"Coeficientes:\")\n",
    "print(coeficientes)\n",
    "\n",
    "# Métrica de desempeño\n",
    "r2_lineal = modelo.score(X, y)\n",
    "print(f\"R2: {r2_lineal:.4f}\")"
   ]
  },
  {
   "cell_type": "markdown",
   "metadata": {},
   "source": [
    "Como resultado del modelo de regresión lineal, se tendría:\n",
    "* **Intercepto:** quiere decir que en la season 1 y a la hora 0 se van a necesitar en promedio 30 bicicletas para el alquiler\n",
    "* **Coeficiente season:** expresa la relación que habría entre las temporadas teniendo constante la hora. Por ejemplo, se espera que entre invierno (season 1) y primavera (season 2) para la misma hora, se invremente en 27 la demanda de bicicletas; pero verano (season 3) se espera que incremente en 54 la demanda.\n",
    "* **Coeficiente hour:** expresa el incremento que hay entre las horas cuando se mantiene constante la temporada. En promedio, se incrementaría en 10 la demanda de bicicletas durante el día en una misma temporada. \n",
    "\n",
    "La limitaciones de este modelo para estos datos en partícular serían:\n",
    "* Suposición de linealidad en las variables, como se observó en las graficas anteriores, el comportamiento de la demanda durante el día no es ascendente y descendente, durante el día tiene dos picos de mayor demanda.\n",
    "* Similar a lo anterior, la iteracción entre estas dos variables puede que no sea lineal y por lo tanto no se tenga el mejor ajuste\n",
    "* Puede que las suposiciones iniciales del modelo no se estén cumpliendo y por ende el resultado obtenido no sea el mejor\n",
    "* Los outliers pueden llegar a tener alta sensibilidad en el modelo, haciendo distorsiones en los coeficientes."
   ]
  },
  {
   "cell_type": "code",
   "execution_count": 12,
   "metadata": {},
   "outputs": [
    {
     "name": "stdout",
     "output_type": "stream",
     "text": [
      "Intercepto: 29.087049016519074\n",
      "Coeficientes:\n",
      "season    26.939741\n",
      "hour      10.554487\n",
      "dtype: float64\n",
      "R2 en test: 0.1851\n",
      "MSE en test: 26898.2749\n"
     ]
    }
   ],
   "source": [
    "X = bikes[['season', 'hour']] \n",
    "y = bikes['total']\n",
    "\n",
    "# Dividir los datos en entrenamiento y prueba (20% para prueba)\n",
    "X_train, X_test, y_train, y_test = train_test_split(X, y, test_size=0.20, random_state=42)\n",
    "\n",
    "# Ajustar el modelo de regresión lineal sobre el conjunto de entrenamiento\n",
    "modelo = LinearRegression()\n",
    "modelo.fit(X_train, y_train)\n",
    "\n",
    "# Imprimir el intercepto y los coeficientes\n",
    "coeficientes = pd.Series(modelo.coef_, index=X.columns)\n",
    "print(\"Intercepto:\", modelo.intercept_)\n",
    "print(\"Coeficientes:\")\n",
    "print(coeficientes)\n",
    "\n",
    "# Predicciones en el conjunto de prueba\n",
    "y_pred = modelo.predict(X_test)\n",
    "\n",
    "# Métrica de desempeño\n",
    "r2_lineal_train = modelo.score(X_test, y_test)\n",
    "print(f\"R2 en test: {r2_lineal_train:.4f}\")\n",
    "mse_lineal = mean_squared_error(y_test, y_pred)\n",
    "print(f\"MSE en test: {mse_lineal:.4f}\")"
   ]
  },
  {
   "cell_type": "markdown",
   "metadata": {},
   "source": [
    "### Punto 4 - Árbol de decisión manual\n",
    "En la celda 4 cree un árbol de decisiones para pronosticar la variable \"total\" iterando **manualmente** sobre las variables \"hour\" y  \"season\". El árbol debe tener al menos 6 nodos finales."
   ]
  },
  {
   "cell_type": "code",
   "execution_count": 13,
   "metadata": {},
   "outputs": [
    {
     "name": "stdout",
     "output_type": "stream",
     "text": [
      "MSE: 45598.67793496234\n",
      "R2: -0.3898\n"
     ]
    }
   ],
   "source": [
    "# Celda 4\n",
    "\n",
    "# Con la tabla del inicio, se identifica que las season 1 y 4, y las season 2 y 3 tienen comportamiento similar en los promedio, por lo cual se agrupan\n",
    "# Se tendrán nodos principales para decidir la hora y nodos secundarios para escoger la season\n",
    "\n",
    "def predict_total(row):\n",
    "    hour = row['hour']\n",
    "    season = row['season']\n",
    "    \n",
    "    # Nodo 1\n",
    "    if hour < 6:\n",
    "        # Nodo 2 \n",
    "        if season in [0, 3]:\n",
    "            # Nodo final 1\n",
    "            return 50\n",
    "        else:\n",
    "            # Nodo final 2\n",
    "            return 100\n",
    "       \n",
    "    # Nodo 3\n",
    "    elif hour <= 8:\n",
    "        # Nodo 4\n",
    "        if season in [0, 3]:\n",
    "            # Nodo final 3\n",
    "            return 250\n",
    "        else:\n",
    "            # Nodo final 4\n",
    "            return 400\n",
    "        \n",
    "    # Nodo 5\n",
    "    elif hour <= 17:\n",
    "        # Nodo 6\n",
    "        if season in [0, 3]:\n",
    "            # Nodo final 5\n",
    "            return 270\n",
    "        else:\n",
    "            # Nodo final 6\n",
    "            return 600\n",
    "    else:\n",
    "        # Para horas mayores a 17\n",
    "        return 100\n",
    "\n",
    "# Aplicamos el árbol manual a cada fila del DataFrame bikes\n",
    "bikes['pred_total'] = bikes.apply(predict_total, axis=1)\n",
    "\n",
    "# Calcular el MSE\n",
    "mse = mean_squared_error(bikes['total'], bikes['pred_total'])\n",
    "# Calcular el R2\n",
    "r2 = r2_score(bikes['total'], bikes['pred_total'])\n",
    "\n",
    "print(\"MSE:\", mse)\n",
    "print(f\"R2: {r2:.4f}\")"
   ]
  },
  {
   "cell_type": "markdown",
   "metadata": {},
   "source": [
    "### Punto 5 - Árbol de decisión con librería\n",
    "En la celda 5 entrene un árbol de decisiones con la **librería sklearn**, usando las variables predictoras \"season\" y \"hour\" y calibre los parámetros que considere conveniente para obtener un mejor desempeño. Recuerde dividir los datos en conjuntos de entrenamiento y validación para esto. Comente el desempeño del modelo con alguna métrica de desempeño de modelos de regresión y compare desempeño con el modelo del punto 3."
   ]
  },
  {
   "cell_type": "code",
   "execution_count": 14,
   "metadata": {},
   "outputs": [
    {
     "name": "stdout",
     "output_type": "stream",
     "text": [
      "MSE: 13453.8509\n",
      "R2: 0.5924\n"
     ]
    }
   ],
   "source": [
    "# Celda 5\n",
    "\n",
    "X = bikes[['season', 'hour']]\n",
    "y = bikes['total']\n",
    "\n",
    "# Dividir los datos en entrenamiento\n",
    "X_train, X_val, y_train, y_val = train_test_split(X, y, test_size=0.20, random_state=42)\n",
    "\n",
    "# Entrenar el árbol de decisión ajustando parámetros\n",
    "dt_reg = DecisionTreeRegressor(\n",
    "    max_depth=10,  \n",
    "    min_samples_leaf=10,  \n",
    "    min_samples_split=10,  \n",
    "    criterion='poisson',  \n",
    "    max_features='log2',  \n",
    "    random_state=42\n",
    ")\n",
    "dt_reg.fit(X_train, y_train)\n",
    "\n",
    "# Predicciones en el conjunto de validación\n",
    "y_pred = dt_reg.predict(X_val)\n",
    "\n",
    "# Calcular métricas de desempeño\n",
    "mse_tree = mean_squared_error(y_val, y_pred)\n",
    "r2_tree = r2_score(y_val, y_pred)\n",
    "print(f\"MSE: {mse_tree:.4f}\")\n",
    "print(f\"R2: {r2_tree:.4f}\")"
   ]
  },
  {
   "cell_type": "markdown",
   "metadata": {},
   "source": [
    "El modelo basado en un árbol de decisión entrenado con la librería obtuvo un MSE de 13,454 y un R² de 0.5924, lo que indica que explica aproximadamente el 59.2% de la variabilidad en los datos, un desempeño notablemente superior al azar. En comparación, el modelo de regresión lineal presentó un MSE de 26,898 y un R² de 0.1851, lo que sugiere que el árbol de decisión logra una mayor precisión en sus predicciones y captura mejor la relación entre las variables predictoras y la variable objetivo.\n",
    "\n",
    "La menor tasa de error del árbol de decisión (reflejada en el MSE más bajo) indica que sus predicciones son más cercanas a los valores reales en comparación con la regresión lineal. Asimismo, la mejora en R² sugiere que el modelo basado en árboles es más adecuado para este conjunto de datos, lo que indica que la relación entre las variables no es puramente lineal y que el árbol de decisión logra modelar mejor su comportamiento."
   ]
  },
  {
   "cell_type": "markdown",
   "metadata": {},
   "source": [
    "## Parte B - Métodos de ensamblajes\n",
    "En esta parte del taller se usará el conjunto de datos de Popularidad de Noticias Online. El objetivo es predecir si la notica es popular o no, la popularidad está dada por la cantidad de reacciones en redes sociales. Para más detalles puede visitar el siguiente enlace: [datos](https://archive.ics.uci.edu/ml/datasets/online+news+popularity)."
   ]
  },
  {
   "cell_type": "markdown",
   "metadata": {},
   "source": [
    "### Datos popularidad de noticias"
   ]
  },
  {
   "cell_type": "code",
   "execution_count": 15,
   "metadata": {},
   "outputs": [
    {
     "data": {
      "text/html": [
       "<div>\n",
       "<style scoped>\n",
       "    .dataframe tbody tr th:only-of-type {\n",
       "        vertical-align: middle;\n",
       "    }\n",
       "\n",
       "    .dataframe tbody tr th {\n",
       "        vertical-align: top;\n",
       "    }\n",
       "\n",
       "    .dataframe thead th {\n",
       "        text-align: right;\n",
       "    }\n",
       "</style>\n",
       "<table border=\"1\" class=\"dataframe\">\n",
       "  <thead>\n",
       "    <tr style=\"text-align: right;\">\n",
       "      <th></th>\n",
       "      <th>url</th>\n",
       "      <th>timedelta</th>\n",
       "      <th>n_tokens_title</th>\n",
       "      <th>n_tokens_content</th>\n",
       "      <th>n_unique_tokens</th>\n",
       "      <th>n_non_stop_words</th>\n",
       "      <th>n_non_stop_unique_tokens</th>\n",
       "      <th>num_hrefs</th>\n",
       "      <th>num_self_hrefs</th>\n",
       "      <th>num_imgs</th>\n",
       "      <th>...</th>\n",
       "      <th>min_positive_polarity</th>\n",
       "      <th>max_positive_polarity</th>\n",
       "      <th>avg_negative_polarity</th>\n",
       "      <th>min_negative_polarity</th>\n",
       "      <th>max_negative_polarity</th>\n",
       "      <th>title_subjectivity</th>\n",
       "      <th>title_sentiment_polarity</th>\n",
       "      <th>abs_title_subjectivity</th>\n",
       "      <th>abs_title_sentiment_polarity</th>\n",
       "      <th>Popular</th>\n",
       "    </tr>\n",
       "  </thead>\n",
       "  <tbody>\n",
       "    <tr>\n",
       "      <th>0</th>\n",
       "      <td>http://mashable.com/2014/12/10/cia-torture-rep...</td>\n",
       "      <td>28.0</td>\n",
       "      <td>9.0</td>\n",
       "      <td>188.0</td>\n",
       "      <td>0.732620</td>\n",
       "      <td>1.0</td>\n",
       "      <td>0.844262</td>\n",
       "      <td>5.0</td>\n",
       "      <td>1.0</td>\n",
       "      <td>1.0</td>\n",
       "      <td>...</td>\n",
       "      <td>0.200000</td>\n",
       "      <td>0.80</td>\n",
       "      <td>-0.487500</td>\n",
       "      <td>-0.60</td>\n",
       "      <td>-0.250000</td>\n",
       "      <td>0.9</td>\n",
       "      <td>0.8</td>\n",
       "      <td>0.4</td>\n",
       "      <td>0.8</td>\n",
       "      <td>1</td>\n",
       "    </tr>\n",
       "    <tr>\n",
       "      <th>1</th>\n",
       "      <td>http://mashable.com/2013/10/18/bitlock-kicksta...</td>\n",
       "      <td>447.0</td>\n",
       "      <td>7.0</td>\n",
       "      <td>297.0</td>\n",
       "      <td>0.653199</td>\n",
       "      <td>1.0</td>\n",
       "      <td>0.815789</td>\n",
       "      <td>9.0</td>\n",
       "      <td>4.0</td>\n",
       "      <td>1.0</td>\n",
       "      <td>...</td>\n",
       "      <td>0.160000</td>\n",
       "      <td>0.50</td>\n",
       "      <td>-0.135340</td>\n",
       "      <td>-0.40</td>\n",
       "      <td>-0.050000</td>\n",
       "      <td>0.1</td>\n",
       "      <td>-0.1</td>\n",
       "      <td>0.4</td>\n",
       "      <td>0.1</td>\n",
       "      <td>0</td>\n",
       "    </tr>\n",
       "    <tr>\n",
       "      <th>2</th>\n",
       "      <td>http://mashable.com/2013/07/24/google-glass-po...</td>\n",
       "      <td>533.0</td>\n",
       "      <td>11.0</td>\n",
       "      <td>181.0</td>\n",
       "      <td>0.660377</td>\n",
       "      <td>1.0</td>\n",
       "      <td>0.775701</td>\n",
       "      <td>4.0</td>\n",
       "      <td>3.0</td>\n",
       "      <td>1.0</td>\n",
       "      <td>...</td>\n",
       "      <td>0.136364</td>\n",
       "      <td>1.00</td>\n",
       "      <td>0.000000</td>\n",
       "      <td>0.00</td>\n",
       "      <td>0.000000</td>\n",
       "      <td>0.3</td>\n",
       "      <td>1.0</td>\n",
       "      <td>0.2</td>\n",
       "      <td>1.0</td>\n",
       "      <td>0</td>\n",
       "    </tr>\n",
       "    <tr>\n",
       "      <th>3</th>\n",
       "      <td>http://mashable.com/2013/11/21/these-are-the-m...</td>\n",
       "      <td>413.0</td>\n",
       "      <td>12.0</td>\n",
       "      <td>781.0</td>\n",
       "      <td>0.497409</td>\n",
       "      <td>1.0</td>\n",
       "      <td>0.677350</td>\n",
       "      <td>10.0</td>\n",
       "      <td>3.0</td>\n",
       "      <td>1.0</td>\n",
       "      <td>...</td>\n",
       "      <td>0.100000</td>\n",
       "      <td>1.00</td>\n",
       "      <td>-0.195701</td>\n",
       "      <td>-0.40</td>\n",
       "      <td>-0.071429</td>\n",
       "      <td>0.0</td>\n",
       "      <td>0.0</td>\n",
       "      <td>0.5</td>\n",
       "      <td>0.0</td>\n",
       "      <td>0</td>\n",
       "    </tr>\n",
       "    <tr>\n",
       "      <th>4</th>\n",
       "      <td>http://mashable.com/2014/02/11/parking-ticket-...</td>\n",
       "      <td>331.0</td>\n",
       "      <td>8.0</td>\n",
       "      <td>177.0</td>\n",
       "      <td>0.685714</td>\n",
       "      <td>1.0</td>\n",
       "      <td>0.830357</td>\n",
       "      <td>3.0</td>\n",
       "      <td>2.0</td>\n",
       "      <td>1.0</td>\n",
       "      <td>...</td>\n",
       "      <td>0.100000</td>\n",
       "      <td>0.55</td>\n",
       "      <td>-0.175000</td>\n",
       "      <td>-0.25</td>\n",
       "      <td>-0.100000</td>\n",
       "      <td>0.0</td>\n",
       "      <td>0.0</td>\n",
       "      <td>0.5</td>\n",
       "      <td>0.0</td>\n",
       "      <td>0</td>\n",
       "    </tr>\n",
       "  </tbody>\n",
       "</table>\n",
       "<p>5 rows × 61 columns</p>\n",
       "</div>"
      ],
      "text/plain": [
       "                                                 url  timedelta  \\\n",
       "0  http://mashable.com/2014/12/10/cia-torture-rep...       28.0   \n",
       "1  http://mashable.com/2013/10/18/bitlock-kicksta...      447.0   \n",
       "2  http://mashable.com/2013/07/24/google-glass-po...      533.0   \n",
       "3  http://mashable.com/2013/11/21/these-are-the-m...      413.0   \n",
       "4  http://mashable.com/2014/02/11/parking-ticket-...      331.0   \n",
       "\n",
       "   n_tokens_title  n_tokens_content  n_unique_tokens  n_non_stop_words  \\\n",
       "0             9.0             188.0         0.732620               1.0   \n",
       "1             7.0             297.0         0.653199               1.0   \n",
       "2            11.0             181.0         0.660377               1.0   \n",
       "3            12.0             781.0         0.497409               1.0   \n",
       "4             8.0             177.0         0.685714               1.0   \n",
       "\n",
       "   n_non_stop_unique_tokens  num_hrefs  num_self_hrefs  num_imgs  ...  \\\n",
       "0                  0.844262        5.0             1.0       1.0  ...   \n",
       "1                  0.815789        9.0             4.0       1.0  ...   \n",
       "2                  0.775701        4.0             3.0       1.0  ...   \n",
       "3                  0.677350       10.0             3.0       1.0  ...   \n",
       "4                  0.830357        3.0             2.0       1.0  ...   \n",
       "\n",
       "   min_positive_polarity  max_positive_polarity  avg_negative_polarity  \\\n",
       "0               0.200000                   0.80              -0.487500   \n",
       "1               0.160000                   0.50              -0.135340   \n",
       "2               0.136364                   1.00               0.000000   \n",
       "3               0.100000                   1.00              -0.195701   \n",
       "4               0.100000                   0.55              -0.175000   \n",
       "\n",
       "   min_negative_polarity  max_negative_polarity  title_subjectivity  \\\n",
       "0                  -0.60              -0.250000                 0.9   \n",
       "1                  -0.40              -0.050000                 0.1   \n",
       "2                   0.00               0.000000                 0.3   \n",
       "3                  -0.40              -0.071429                 0.0   \n",
       "4                  -0.25              -0.100000                 0.0   \n",
       "\n",
       "   title_sentiment_polarity  abs_title_subjectivity  \\\n",
       "0                       0.8                     0.4   \n",
       "1                      -0.1                     0.4   \n",
       "2                       1.0                     0.2   \n",
       "3                       0.0                     0.5   \n",
       "4                       0.0                     0.5   \n",
       "\n",
       "   abs_title_sentiment_polarity  Popular  \n",
       "0                           0.8        1  \n",
       "1                           0.1        0  \n",
       "2                           1.0        0  \n",
       "3                           0.0        0  \n",
       "4                           0.0        0  \n",
       "\n",
       "[5 rows x 61 columns]"
      ]
     },
     "execution_count": 15,
     "metadata": {},
     "output_type": "execute_result"
    }
   ],
   "source": [
    "# Lectura de la información de archivo .csv\n",
    "df = pd.read_csv('https://raw.githubusercontent.com/davidzarruk/MIAD_ML_NLP_2025/main/datasets/mashable.csv', index_col=0)\n",
    "df.head()"
   ]
  },
  {
   "cell_type": "code",
   "execution_count": 16,
   "metadata": {},
   "outputs": [
    {
     "data": {
      "text/plain": [
       "0.5"
      ]
     },
     "execution_count": 16,
     "metadata": {},
     "output_type": "execute_result"
    }
   ],
   "source": [
    "# Definición variable de interes y variables predictoras\n",
    "X = df.drop(['url', 'Popular'], axis=1)\n",
    "y = df['Popular']\n",
    "y.mean()"
   ]
  },
  {
   "cell_type": "code",
   "execution_count": 17,
   "metadata": {},
   "outputs": [],
   "source": [
    "# División de la muestra en set de entrenamiento y prueba\n",
    "from sklearn.model_selection import train_test_split\n",
    "X_train, X_test, y_train, y_test = train_test_split(X, y, random_state=1)"
   ]
  },
  {
   "cell_type": "markdown",
   "metadata": {},
   "source": [
    "### Punto 6 - Árbol de decisión y regresión logística\n",
    "En la celda 6 construya un árbol de decisión y una regresión logística. Para el árbol calibre al menos un parámetro y evalúe el desempeño de cada modelo usando las métricas de Accuracy y F1-Score."
   ]
  },
  {
   "cell_type": "code",
   "execution_count": 18,
   "metadata": {},
   "outputs": [
    {
     "name": "stdout",
     "output_type": "stream",
     "text": [
      "Árbol de Decisión - Accuracy: 0.6373, F1-Score: 0.6617\n",
      "Regresión Logística - Accuracy: 0.6147, F1-Score: 0.6025\n"
     ]
    }
   ],
   "source": [
    "# Celda 6\n",
    "\n",
    "# Modelo de árbol de decisión con ajuste de profundidad\n",
    "tree_clf = DecisionTreeClassifier(max_depth=5, random_state=1)\n",
    "tree_clf.fit(X_train, y_train)\n",
    "\n",
    "# Modelo de regresión logística\n",
    "log_reg = LogisticRegression(max_iter=1000, random_state=1)\n",
    "log_reg.fit(X_train, y_train)\n",
    "\n",
    "# Predicciones\n",
    "y_pred_tree = tree_clf.predict(X_test)\n",
    "y_pred_log = log_reg.predict(X_test)\n",
    "\n",
    "# Evaluación con Accuracy y F1-Score\n",
    "accuracy_tree = accuracy_score(y_test, y_pred_tree)\n",
    "f1_tree = f1_score(y_test, y_pred_tree)\n",
    "\n",
    "accuracy_log = accuracy_score(y_test, y_pred_log)\n",
    "f1_log = f1_score(y_test, y_pred_log)\n",
    "\n",
    "print(f\"Árbol de Decisión - Accuracy: {accuracy_tree:.4f}, F1-Score: {f1_tree:.4f}\")\n",
    "print(f\"Regresión Logística - Accuracy: {accuracy_log:.4f}, F1-Score: {f1_log:.4f}\")"
   ]
  },
  {
   "cell_type": "markdown",
   "metadata": {},
   "source": [
    "El Árbol de Decisión mostró un mejor desempeño que la Regresión Logística, con mayor Accuracy y F1-Score, lo que indica que clasifica los datos con mayor precisión y equilibrio entre precisión y recuperación. Esto sugiere que el árbol de decisión reduce mejor los errores de clasificación, haciéndolo una mejor opción en este caso."
   ]
  },
  {
   "cell_type": "markdown",
   "metadata": {},
   "source": [
    "### Punto 7 - Votación Mayoritaria\n",
    "En la celda 7 elabore un esamble con la metodología de **Votación mayoritaria** compuesto por 300 muestras bagged donde:\n",
    "\n",
    "-las primeras 100 muestras vienen de árboles de decisión donde max_depth tome un valor de su elección\\\n",
    "-las segundas 100 muestras vienen de árboles de decisión donde min_samples_leaf tome un valor de su elección\\\n",
    "-las últimas 100 muestras vienen de regresiones logísticas\n",
    "\n",
    "Evalúe cada uno de los tres modelos de manera independiente utilizando las métricas de Accuracy y F1-Score, luego evalúe el ensamble de modelos y compare los resultados. \n",
    "\n",
    "Nota: \n",
    "\n",
    "Para este ensamble de 300 modelos, deben hacer votación mayoritaria. Esto lo pueden hacer de distintas maneras. La más \"fácil\" es haciendo la votación \"manualmente\", como se hace a partir del minuto 5:45 del video de Ejemplo práctico de emsablajes en Coursera. Digo que es la más fácil porque si hacen la votación mayoritaria sobre las 300 predicciones van a obtener lo que se espera.\n",
    "\n",
    "Otra opción es: para cada uno de los 3 tipos de modelos, entrenar un ensamble de 100 modelos cada uno. Predecir para cada uno de esos tres ensambles y luego predecir como un ensamble de los 3 ensambles. La cuestión es que la votación mayoritaria al usar los 3 ensambles no necesariamente va a generar el mismo resultado que si hacen la votación mayoritaria directamente sobre los 300 modelos. Entonces, para los que quieran hacer esto, deben hacer ese último cálculo con cuidado.\n",
    "\n",
    "Para los que quieran hacerlo como ensamble de ensambles, digo que se debe hacer el ensamble final con cuidado por lo siguiente. Supongamos que:\n",
    "\n",
    "* para los 100 árboles del primer tipo, la votación mayoritaria es: 55% de los modelos predicen que la clase de una observación es \"1\"\n",
    "* para los 100 árboles del segundo tipo, la votación mayoritaria es: 55% de los modelos predicen que la clase de una observación es \"1\"\n",
    "* para las 100 regresiones logísticas, la votación mayoritaria es: 10% de los modelos predicen que la clase de una observación es \"1\"\n",
    "\n",
    "Si se hace la votación mayoritaria de los 300 modelos, la predicción de esa observación debería ser: (100*55%+100*55%+100*10%)/300 = 40% de los modelos votan porque la predicción debería ser \"1\". Es decir, la predicción del ensamble es \"0\" (dado que menos del 50% de modelos predijo un 1).\n",
    "\n",
    "Sin embargo, si miramos cada ensamble por separado, el primer ensamble predice \"1\", el segundo ensamble predice \"1\" y el último ensamble predice \"0\". Si hago votación mayoritaria sobre esto, la predicción va a ser \"1\", lo cual es distinto a si se hace la votación mayoritaria sobre los 300 modelos."
   ]
  },
  {
   "cell_type": "code",
   "execution_count": 19,
   "metadata": {},
   "outputs": [],
   "source": [
    "# Celda 7\n",
    "\n",
    "# Listas para almacenar predicciones\n",
    "models = []  # para guardar los 300 predictores\n",
    "preds = []   # para guardar las predicciones\n",
    "\n",
    "# Primeras 100 muestras: Árboles de decisión con max_depth fijo (5)\n",
    "for i in range(100):\n",
    "    irx = np.random.choice(len(X_train), size=len(X_train), replace=True)\n",
    "    X_train_sample = X_train.iloc[irx]\n",
    "    y_train_sample = y_train.iloc[irx]\n",
    "    \n",
    "    tree = DecisionTreeClassifier(max_depth=5, random_state=42)\n",
    "    tree.fit(X_train_sample, y_train_sample)\n",
    "    models.append(tree)\n",
    "    preds.append(tree.predict(X_test))\n",
    "    \n",
    "# Segundas 100 muestras: Árboles de decisión con min_samples_leaf fijo (2)\n",
    "for i in range(100):\n",
    "    irx = np.random.choice(len(X_train), size=len(X_train), replace=True)\n",
    "    X_train_sample = X_train.iloc[irx]\n",
    "    y_train_sample = y_train.iloc[irx]\n",
    "    \n",
    "    tree = DecisionTreeClassifier(min_samples_leaf=2, random_state=42)\n",
    "    tree.fit(X_train_sample, y_train_sample)\n",
    "    models.append(tree)\n",
    "    preds.append(tree.predict(X_test))\n",
    "    \n",
    "# Últimas 100 muestras: Regresión Logística\n",
    "for i in range(100):\n",
    "    irx = np.random.choice(len(X_train), size=len(X_train), replace=True)\n",
    "    X_train_sample = X_train.iloc[irx]\n",
    "    y_train_sample = y_train.iloc[irx]\n",
    "    \n",
    "    log_reg = LogisticRegression(max_iter=1000, random_state=42)\n",
    "    log_reg.fit(X_train_sample, y_train_sample)\n",
    "    models.append(log_reg)\n",
    "    preds.append(log_reg.predict(X_test))\n",
    "    \n",
    "# Convertir la lista de predicciones a una matriz\n",
    "pred_matrix = np.array(preds)"
   ]
  },
  {
   "cell_type": "code",
   "execution_count": 20,
   "metadata": {},
   "outputs": [
    {
     "name": "stdout",
     "output_type": "stream",
     "text": [
      "Desempeño de cada grupo:\n",
      "Árboles (max_depth = 5): Accuracy: 0.6567, F1-Score: 0.6574\n",
      "Árboles (min_samples_leaf = 2): Accuracy: 0.6427, F1-Score: 0.6160\n",
      "Regresión Logística: Accuracy: 0.6173, F1-Score: 0.6063\n",
      "\n",
      "Ensamble de 300 modelos:\n",
      "Accuracy: 0.6353, F1-Score: 0.6256\n"
     ]
    }
   ],
   "source": [
    "# Evaluación de cada grupo por separado\n",
    "# Grupo 1: Modelos 0-99 (Árboles con max_depth=5)\n",
    "preds_group1 = pred_matrix[0:100].mean(axis=0)  # Promedio de votos (0 o 1)\n",
    "preds_group1 = (preds_group1 > 0.5).astype(int)\n",
    "accuracy_g1 = accuracy_score(y_test, preds_group1)\n",
    "f1_g1 = f1_score(y_test, preds_group1)\n",
    "\n",
    "# Grupo 2: Modelos 100-199 (Árboles con min_samples_leaf=2)\n",
    "preds_group2 = pred_matrix[100:200].mean(axis=0)\n",
    "preds_group2 = (preds_group2 > 0.5).astype(int)\n",
    "accuracy_g2 = accuracy_score(y_test, preds_group2)\n",
    "f1_g2 = f1_score(y_test, preds_group2)\n",
    "\n",
    "# Grupo 3: Modelos 200-299 (Regresión Logística)\n",
    "preds_group3 = pred_matrix[200:300].mean(axis=0)\n",
    "preds_group3 = (preds_group3 > 0.5).astype(int)\n",
    "accuracy_g3 = accuracy_score(y_test, preds_group3)\n",
    "f1_g3 = f1_score(y_test, preds_group3)\n",
    "\n",
    "print(\"Desempeño de cada grupo:\")\n",
    "print(f\"Árboles (max_depth = 5): Accuracy: {accuracy_g1:.4f}, F1-Score: {f1_g1:.4f}\")\n",
    "print(f\"Árboles (min_samples_leaf = 2): Accuracy: {accuracy_g2:.4f}, F1-Score: {f1_g2:.4f}\")\n",
    "print(f\"Regresión Logística: Accuracy: {accuracy_g3:.4f}, F1-Score: {f1_g3:.4f}\")\n",
    "\n",
    "# Ensamble total\n",
    "# Para cada observación, se cuenta el número de votos (predicción = 1) y\n",
    "# se asigna 1 si el total de votos supera la mitad de los modelos (300/2 = 150)\n",
    "total_votes = pred_matrix.sum(axis=0)\n",
    "final_preds = (total_votes > 150).astype(int)\n",
    "\n",
    "accuracy_ensemble = accuracy_score(y_test, final_preds)\n",
    "f1_ensemble = f1_score(y_test, final_preds)\n",
    "\n",
    "print(\"\\nEnsamble de 300 modelos:\")\n",
    "print(f\"Accuracy: {accuracy_ensemble:.4f}, F1-Score: {f1_ensemble:.4f}\")"
   ]
  },
  {
   "cell_type": "markdown",
   "metadata": {},
   "source": [
    "### Punto 8 - Votación Ponderada\n",
    "En la celda 8 elabore un ensamble con la metodología de **Votación ponderada** compuesto por 300 muestras bagged para los mismos tres escenarios del punto 7. Evalúe los modelos utilizando las métricas de Accuracy y F1-Score"
   ]
  },
  {
   "cell_type": "code",
   "execution_count": 25,
   "metadata": {},
   "outputs": [
    {
     "name": "stdout",
     "output_type": "stream",
     "text": [
      "Ensamble con Votación Ponderada de 300 modelos:\n",
      "Accuracy: 0.6387, F1-Score: 0.6288\n"
     ]
    }
   ],
   "source": [
    "# Celda 8\n",
    "\n",
    "n_estimators = 300\n",
    "n_samples = X_train.shape[0]\n",
    "samples = [np.random.choice(n_samples, size=n_samples, replace=True) for _ in range(n_estimators)]\n",
    "y_pred_df = pd.DataFrame(preds).T\n",
    "\n",
    "# Obtención de las observaciones out-of-bag (OOB) para cada muestra\n",
    "samples_oob = []\n",
    "for sample in samples:\n",
    "    oob_indices = sorted(set(range(n_samples)) - set(sample))\n",
    "    samples_oob.append(oob_indices)\n",
    "\n",
    "# Estimación de los errores OOB para cada modelo\n",
    "errors = np.zeros(n_estimators)\n",
    "for i in range(n_estimators):\n",
    "    if len(samples_oob[i]) > 0:\n",
    "        y_pred_oob = models[i].predict(X_train.iloc[samples_oob[i]])\n",
    "        errors[i] = 1 - accuracy_score(y_train.iloc[samples_oob[i]], y_pred_oob)\n",
    "\n",
    "# Cálculo de los pesos alpha para cada modelo a partir de su error OOB\n",
    "# Se normalizan de modo que la suma de todos los pesos sea 1\n",
    "alpha = (1 - errors) / (1 - errors).sum()\n",
    "\n",
    "# Ponderación de las predicciones\n",
    "weighted_sum = (y_pred_df * alpha).sum(axis=1)\n",
    "\n",
    "final_preds = (weighted_sum >= 0.5).astype(int)\n",
    "\n",
    "# Evaluación del ensamble ponderado\n",
    "accuracy_ensemble_weighted = accuracy_score(y_test, final_preds)\n",
    "f1_ensemble_weighted = f1_score(y_test, final_preds)\n",
    "\n",
    "print(\"Ensamble con Votación Ponderada de 300 modelo:\")\n",
    "print(f\"Accuracy: {accuracy_ensemble_weighted:.4f}, F1-Score: {f1_ensemble_weighted:.4f}\")"
   ]
  },
  {
   "cell_type": "markdown",
   "metadata": {},
   "source": [
    "### Punto 9 - Comparación y análisis de resultados\n",
    "En la celda 9 comente sobre los resultados obtenidos con las metodologías usadas en los puntos 7 y 8, compare los resultados y enuncie posibles ventajas o desventajas de cada una de ellas."
   ]
  },
  {
   "cell_type": "markdown",
   "metadata": {},
   "source": [
    "* Los árboles de decisión con max_depth = 5 presentan el mejor desempeño de forma individual.\n",
    "* La combinación mediante votación mayoritaria no logra superar al mejor modelo individual, lo que indica que dar el mismo peso a cada modelo puede limitar el ensamble.\n",
    "* La votación ponderada, al asignar mayor relevancia a los modelos con mejor desempeño (mediante pesos calculados con error OOB), ofrece una ligera mejora sobre la votación mayoritaria.\n",
    "\n",
    "**Votación mayoritaria:**\n",
    "* Es simple de implementar y entender; cada modelo tiene el mismo peso, lo que puede ser robusto si los modelos son similares.\n",
    "* No aprovecha la variabilidad en el desempeño de cada modelo; si hay modelos que sistemáticamente tienen peor rendimiento, su voto \"malo\" se valora igual al de los mejores.\n",
    "\n",
    "**Votación ponderada:**\n",
    "* Permite dar más importancia a los modelos que muestran un mejor desempeño (por ejemplo, con menor error OOB), lo que puede mejorar la calidad de la predicción global.\n",
    "* Depende de una buena estimación de los pesos; si la estimación del error OOB no es precisa, la asignación de pesos puede no reflejar adecuadamente la calidad de cada modelo.\n",
    "\n",
    "Para finalizar, aunque el ensamble de modelos puede aportar estabilidad y robustez en la predicción, en este caso el mejor desempeño se obtiene con el modelo individual de árboles con max_depth = 5. La estrategia de votación ponderada logra mejorar ligeramente respecto a la votación mayoritaria, demostrando que incorporar la calidad de cada clasificador puede ser beneficioso en escenarios donde los modelos presentan variabilidad en su desempeño.\n"
   ]
  }
 ],
 "metadata": {
  "kernelspec": {
   "display_name": "Python 3 (ipykernel)",
   "language": "python",
   "name": "python3"
  },
  "language_info": {
   "codemirror_mode": {
    "name": "ipython",
    "version": 3
   },
   "file_extension": ".py",
   "mimetype": "text/x-python",
   "name": "python",
   "nbconvert_exporter": "python",
   "pygments_lexer": "ipython3",
   "version": "3.12.3"
  }
 },
 "nbformat": 4,
 "nbformat_minor": 4
}
